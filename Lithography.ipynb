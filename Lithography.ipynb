{
 "cells": [
  {
   "cell_type": "code",
   "execution_count": 2,
   "id": "6caa3146-d894-400d-b5f5-7925528b6d48",
   "metadata": {},
   "outputs": [],
   "source": [
    "import numpy as np \n",
    "import matplotlib.pyplot as plt\n",
    "import pandas as pd\n",
    "\n",
    "plt.style.use(['seaborn-poster'])\n",
    "\n",
    "import xml.etree.ElementTree as ET\n"
   ]
  },
  {
   "cell_type": "code",
   "execution_count": 3,
   "id": "e778be02-0786-42fb-8d6c-6afa9b7822f8",
   "metadata": {},
   "outputs": [],
   "source": [
    "path = r'/Users/dlopez/downloads/120a/lab1/'\n",
    "\n",
    "file_ = 'step_over_Bottom_descum.xml'\n",
    "\n",
    "filename = path + file_ \n",
    "\n",
    "path_images = path + 'graphs/'\n",
    "\n",
    "tree = ET.parse(filename)\n",
    "root = tree.getroot()"
   ]
  },
  {
   "cell_type": "code",
   "execution_count": 4,
   "id": "1f8dbbc7-9ce1-4fe9-86bd-4d4dbc3b9a9a",
   "metadata": {},
   "outputs": [
    {
     "name": "stdout",
     "output_type": "stream",
     "text": [
      "DataBlock\n",
      "33334\n"
     ]
    }
   ],
   "source": [
    "a = 1 # <DataBlock>\n",
    "\n",
    "print(root[a].tag)\n",
    "print(len(root[a]), end = '\\n')\n",
    "\n",
    "b = 0 # <x>\n",
    "c = 1 # <z>\n",
    "    \n",
    "x_ = []\n",
    "z_ = [] \n",
    "             \n",
    "for child in root[a]: \n",
    "\n",
    "    x_.append(child[b].text)\n",
    "    z_.append(child[c].text)\n"
   ]
  },
  {
   "cell_type": "code",
   "execution_count": null,
   "id": "71bf4222-876d-4fa6-8bed-a0c859f10517",
   "metadata": {},
   "outputs": [
    {
     "data": {
      "text/plain": [
       "[<matplotlib.lines.Line2D at 0x7f9f685c49a0>]"
      ]
     },
     "execution_count": 5,
     "metadata": {},
     "output_type": "execute_result"
    }
   ],
   "source": [
    "plt.plot(x_,z_)"
   ]
  },
  {
   "cell_type": "code",
   "execution_count": null,
   "id": "4a26c2c8-4e3a-466b-a23c-c43fca85bcaf",
   "metadata": {},
   "outputs": [],
   "source": [
    "plt.figure(figsize=(10, 10))\n",
    "plt.title( 'Stepper'  , fontsize = 40 )\n",
    "\n",
    "plt.plot(x_,z_)\n",
    "\n",
    "\n",
    "plt.xticks(fontsize = 25)\n",
    "plt.xlabel(r'Voltage [V]',fontsize= 35)\n",
    "\n",
    "\n",
    "plt.yticks(fontsize = 25)\n",
    "plt.ylabel(r'Capacitance [pF]',fontsize= 35)\n",
    "#plt.grid()\n",
    "\n",
    "plt.savefig(path_images + '+' )\n",
    "\n",
    "plt.show()\n"
   ]
  },
  {
   "cell_type": "markdown",
   "id": "6b823568-6055-451b-8b04-96e91c947a01",
   "metadata": {
    "jp-MarkdownHeadingCollapsed": true,
    "tags": []
   },
   "source": [
    "# Scrap\n"
   ]
  },
  {
   "cell_type": "code",
   "execution_count": null,
   "id": "aa16f874-3da5-452b-82c1-b5a2eff82f68",
   "metadata": {},
   "outputs": [],
   "source": [
    "\n",
    "# Parse the XML file\n",
    "\n",
    "\n",
    "# Create a list to store DataFrames for each XML element\n",
    "dfs = []\n",
    "\n",
    "# Iterate through XML elements and extract data\n",
    "for element in root.iter():\n",
    "    # Assuming each element represents a row in the DataFrame\n",
    "    row_data = {}\n",
    "    for child in element:\n",
    "        row_data[child.tag] = child.text\n",
    "    if row_data:\n",
    "        df = pd.DataFrame([row_data])\n",
    "        dfs.append(df)\n",
    "\n",
    "# Concatenate the list of DataFrames into a single DataFrame\n",
    "final_df = pd.concat(dfs, ignore_index=True)\n",
    "\n",
    "print(final_df)\n",
    "\n"
   ]
  },
  {
   "cell_type": "code",
   "execution_count": 18,
   "id": "58346d29-599c-4ca9-98df-7ad540138073",
   "metadata": {},
   "outputs": [
    {
     "name": "stderr",
     "output_type": "stream",
     "text": [
      "IOPub data rate exceeded.\n",
      "The Jupyter server will temporarily stop sending output\n",
      "to the client in order to avoid crashing it.\n",
      "To change this limit, set the config variable\n",
      "`--ServerApp.iopub_data_rate_limit`.\n",
      "\n",
      "Current values:\n",
      "ServerApp.iopub_data_rate_limit=1000000.0 (bytes/sec)\n",
      "ServerApp.rate_limit_window=3.0 (secs)\n",
      "\n"
     ]
    }
   ],
   "source": [
    "filename = path + file_ \n",
    "tree = ET.parse(filename)\n",
    "root = tree.getroot()\n",
    "\n",
    "xml_string = ET.tostring(root, encoding='utf-8').decode('utf-8')\n",
    "\n",
    "print(xml_string)\n"
   ]
  },
  {
   "cell_type": "code",
   "execution_count": 16,
   "id": "4ea023c6-748b-48f7-abe0-2a097397948d",
   "metadata": {},
   "outputs": [
    {
     "name": "stdout",
     "output_type": "stream",
     "text": [
      "Header []\n",
      "DataBlock []\n"
     ]
    }
   ],
   "source": [
    "from xml.dom import minidom\n",
    "\n",
    "file_path = path + file_ \n",
    "\n",
    "try:\n",
    "    # Parse the XML file using minidom\n",
    "    dom = minidom.parse(file_path)\n",
    "\n",
    "    # Get the root element\n",
    "    root = dom.documentElement\n",
    "\n",
    "    # Now you can work with the XML data using the 'root' variable\n",
    "    # For example, you can iterate through elements:\n",
    "    for child in root.childNodes:\n",
    "        if child.nodeType == child.ELEMENT_NODE:\n",
    "            print(child.tagName, child.attributes.items())\n",
    "\n",
    "except FileNotFoundError:\n",
    "    print(f\"The file '{file_path}' was not found.\")\n",
    "except Exception as e:\n",
    "    print(f\"An error occurred: {e}\")\n"
   ]
  }
 ],
 "metadata": {
  "kernelspec": {
   "display_name": "Python 3 (ipykernel)",
   "language": "python",
   "name": "python3"
  },
  "language_info": {
   "codemirror_mode": {
    "name": "ipython",
    "version": 3
   },
   "file_extension": ".py",
   "mimetype": "text/x-python",
   "name": "python",
   "nbconvert_exporter": "python",
   "pygments_lexer": "ipython3",
   "version": "3.8.13"
  }
 },
 "nbformat": 4,
 "nbformat_minor": 5
}
